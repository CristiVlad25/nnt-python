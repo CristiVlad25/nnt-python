{
 "cells": [
  {
   "cell_type": "markdown",
   "metadata": {
    "deletable": true,
    "editable": true
   },
   "source": [
    "# <center> TensorFlow and Deep Learning </center>\n",
    "\n",
    "## Text and Sequence Data\n",
    "\n",
    "<br>\n",
    "\n",
    "<center> ![](timeseq1.png) </center>\n",
    "\n",
    "*<p style=\"text-align:right\">By Glen Fergus [CC BY 3.0] via Wikimedia Commons</p>*\n",
    "\n"
   ]
  },
  {
   "cell_type": "markdown",
   "metadata": {
    "collapsed": false,
    "deletable": true,
    "editable": true
   },
   "source": [
    "- build recurrent neural networks **(RNN)** for **NLP** (Natural Language Processing) and **NLU** (Natural Language Understanding)\n",
    "- *NLP and NLU tasks involve: document classification, sentiment analysis, conversational agents*\n",
    "- Tensorboard for visualization purposes\n",
    "- ? Long Short-Term Memory models\n",
    "\n",
    "### Sequence Data\n",
    "\n",
    "- video - images arranged over time\n",
    "- medical records\n",
    "- temperature data (see above)\n",
    "- audio data \n",
    "- stock market data\n",
    "- etc."
   ]
  },
  {
   "cell_type": "markdown",
   "metadata": {
    "collapsed": true,
    "deletable": true,
    "editable": true
   },
   "source": [
    "## <center> Recurrent Neural Networks </center> \n",
    "\n",
    "<br>\n",
    "\n",
    "<center> ![](rnnl.png) </center>\n",
    "\n",
    "*<p style=\"text-align:right\">By François Deloche [CC BY-SA 4.0] via Wikimedia Commons</p>*\n",
    "\n",
    "- each node adds new information => updates the model\n",
    "- in humans: learning new things => updates our model of the world\n",
    "- **Markov Chain** model: data = sequence of (dependent) chains\n",
    "- at time 't': xt, ht, ot\n",
    "- the RNN: unrolled chain of nodes\n",
    "- **supervised learning:** input node => activation (h) - supervisor-given target activations => some outputs\n",
    "- **reinforcement learning:** fitness/reward function => influences inputs via outputs connected to actuators"
   ]
  },
  {
   "cell_type": "markdown",
   "metadata": {
    "collapsed": true,
    "deletable": true,
    "editable": true
   },
   "source": [
    "## Implementing MNIST for RNNs"
   ]
  },
  {
   "cell_type": "code",
   "execution_count": 1,
   "metadata": {
    "collapsed": false,
    "deletable": true,
    "editable": true
   },
   "outputs": [
    {
     "name": "stdout",
     "output_type": "stream",
     "text": [
      "Extracting /tmp/data/train-images-idx3-ubyte.gz\n",
      "Extracting /tmp/data/train-labels-idx1-ubyte.gz\n",
      "Extracting /tmp/data/t10k-images-idx3-ubyte.gz\n",
      "Extracting /tmp/data/t10k-labels-idx1-ubyte.gz\n"
     ]
    }
   ],
   "source": [
    "import tensorflow as tf\n",
    "\n",
    "from tensorflow.examples.tutorials.mnist import input_data\n",
    "mnist = input_data.read_data_sets(\"/tmp/data/\", one_hot=True)\n",
    "\n",
    "element_size = 28\n",
    "time_steps = 28\n",
    "num_classes = 10 \n",
    "batch_size = 128\n",
    "hidden_layer_size = 128 \n",
    "\n",
    "LOG_DIR = 'logs/RNN_with_summaries'\n",
    "\n",
    "_inputs = tf.placeholder(tf.float32, shape=[None, time_steps,element_size], name='inputs')\n",
    "y = tf.placeholder(tf.float32, shape=[None, num_classes], name='labels')\n",
    "\n",
    "batch_x, batch_y = mnist.train.next_batch(batch_size)\n",
    "batch_x = batch_x.reshape((batch_size, time_steps,element_size))"
   ]
  },
  {
   "cell_type": "code",
   "execution_count": null,
   "metadata": {
    "collapsed": true,
    "deletable": true,
    "editable": true
   },
   "outputs": [],
   "source": []
  },
  {
   "cell_type": "code",
   "execution_count": null,
   "metadata": {
    "collapsed": true
   },
   "outputs": [],
   "source": []
  },
  {
   "cell_type": "code",
   "execution_count": null,
   "metadata": {
    "collapsed": true
   },
   "outputs": [],
   "source": []
  },
  {
   "cell_type": "code",
   "execution_count": null,
   "metadata": {
    "collapsed": true
   },
   "outputs": [],
   "source": []
  }
 ],
 "metadata": {
  "kernelspec": {
   "display_name": "Python 3",
   "language": "python",
   "name": "python3"
  },
  "language_info": {
   "codemirror_mode": {
    "name": "ipython",
    "version": 3
   },
   "file_extension": ".py",
   "mimetype": "text/x-python",
   "name": "python",
   "nbconvert_exporter": "python",
   "pygments_lexer": "ipython3",
   "version": "3.5.0"
  }
 },
 "nbformat": 4,
 "nbformat_minor": 2
}
