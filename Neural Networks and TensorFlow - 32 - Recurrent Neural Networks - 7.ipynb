{
 "cells": [
  {
   "cell_type": "markdown",
   "metadata": {
    "deletable": true,
    "editable": true
   },
   "source": [
    "# <center> TensorFlow and Deep Learning </center>\n",
    "\n",
    "## Text and Sequence Data\n",
    "\n",
    "<br>\n",
    "\n",
    "<center> ![](timeseq1.png) </center>\n",
    "\n",
    "*<p style=\"text-align:right\">By Glen Fergus [CC BY 3.0] via Wikimedia Commons</p>*\n",
    "\n"
   ]
  },
  {
   "cell_type": "markdown",
   "metadata": {
    "collapsed": false,
    "deletable": true,
    "editable": true
   },
   "source": [
    "- build recurrent neural networks **(RNN)** for **NLP** (Natural Language Processing) and **NLU** (Natural Language Understanding)\n",
    "- *NLP and NLU tasks involve: document classification, sentiment analysis, conversational agents*\n",
    "- Tensorboard for visualization purposes\n",
    "- ? Long Short-Term Memory models\n",
    "\n",
    "### Sequence Data\n",
    "\n",
    "- video - images arranged over time\n",
    "- medical records\n",
    "- temperature data (see above)\n",
    "- audio data \n",
    "- stock market data\n",
    "- etc."
   ]
  },
  {
   "cell_type": "markdown",
   "metadata": {
    "collapsed": true,
    "deletable": true,
    "editable": true
   },
   "source": [
    "## <center> Recurrent Neural Networks </center> \n",
    "\n",
    "<br>\n",
    "\n",
    "<center> ![](rnnl.png) </center>\n",
    "\n",
    "*<p style=\"text-align:right\">By François Deloche [CC BY-SA 4.0] via Wikimedia Commons</p>*\n",
    "\n",
    "- each node adds new information => updates the model\n",
    "- in humans: learning new things => updates our model of the world\n",
    "- **Markov Chain** model: data = sequence of (dependent) chains\n",
    "- at time 't': xt, ht, ot\n",
    "- the RNN: unrolled chain of nodes\n",
    "- **supervised learning:** input node => activation (h) - supervisor-given target activations => some outputs\n",
    "- **reinforcement learning:** fitness/reward function => influences inputs via outputs connected to actuators"
   ]
  },
  {
   "cell_type": "markdown",
   "metadata": {
    "collapsed": true,
    "deletable": true,
    "editable": true
   },
   "source": [
    "## Implementing MNIST for RNNs"
   ]
  },
  {
   "cell_type": "code",
   "execution_count": 1,
   "metadata": {
    "collapsed": false,
    "deletable": true,
    "editable": true
   },
   "outputs": [
    {
     "name": "stdout",
     "output_type": "stream",
     "text": [
      "Extracting /tmp/data/train-images-idx3-ubyte.gz\n",
      "Extracting /tmp/data/train-labels-idx1-ubyte.gz\n",
      "Extracting /tmp/data/t10k-images-idx3-ubyte.gz\n",
      "Extracting /tmp/data/t10k-labels-idx1-ubyte.gz\n"
     ]
    }
   ],
   "source": [
    "import tensorflow as tf\n",
    "\n",
    "from tensorflow.examples.tutorials.mnist import input_data\n",
    "mnist = input_data.read_data_sets(\"/tmp/data/\", one_hot=True)\n",
    "\n",
    "element_size = 28\n",
    "time_steps = 28\n",
    "num_classes = 10 \n",
    "batch_size = 128\n",
    "hidden_layer_size = 128 \n",
    "\n",
    "LOG_DIR = 'logs/RNN_with_summaries'\n",
    "\n",
    "_inputs = tf.placeholder(tf.float32, shape=[None, time_steps,element_size], name='inputs')\n",
    "y = tf.placeholder(tf.float32, shape=[None, num_classes], name='labels')\n",
    "\n",
    "batch_x, batch_y = mnist.train.next_batch(batch_size)\n",
    "batch_x = batch_x.reshape((batch_size, time_steps,element_size))"
   ]
  },
  {
   "cell_type": "code",
   "execution_count": 2,
   "metadata": {
    "collapsed": true,
    "deletable": true,
    "editable": true
   },
   "outputs": [],
   "source": [
    "def var_summaries(var):\n",
    "    with tf.name_scope('summaries'):\n",
    "        mean = tf.reduce_mean(var)\n",
    "        tf.summary.scalar('mean', mean)\n",
    "        with tf.name_scope('stddev'):\n",
    "            stddev = tf.sqrt(tf.reduce_mean(tf.square(var-mean)))\n",
    "        tf.summary.scalar('stddev', stddev)\n",
    "        tf.summary.scalar('max', tf.reduce_max(var))\n",
    "        tf.summary.scalar('min', tf.reduce_min(var))\n",
    "        tf.summary.histogram('histogram', var)\n",
    "        \n",
    "with tf.name_scope('mn_weights'):\n",
    "    with tf.name_scope('W_x'):\n",
    "        Wx = tf.Variable(tf.zeros([element_size, hidden_layer_size]))\n",
    "        var_summaries(Wx)\n",
    "    with tf.name_scope('W_h'):\n",
    "        Wh = tf.Variable(tf.zeros([hidden_layer_size, hidden_layer_size]))\n",
    "        var_summaries(Wh)\n",
    "    with tf.name_scope('Bias'):\n",
    "        b_rnn = tf.Variable(tf.zeros([hidden_layer_size]))\n",
    "        var_summaries(b_rnn)"
   ]
  },
  {
   "cell_type": "code",
   "execution_count": 3,
   "metadata": {
    "collapsed": true,
    "deletable": true,
    "editable": true
   },
   "outputs": [],
   "source": [
    "def rnn_step(previous_hidden_state,x):\n",
    "    current_hidden_state = tf.tanh(tf.matmul(previous_hidden_state, Wh)+tf.matmul(x,Wx)+b_rnn)\n",
    "    return current_hidden_state"
   ]
  },
  {
   "cell_type": "code",
   "execution_count": 4,
   "metadata": {
    "collapsed": false,
    "deletable": true,
    "editable": true
   },
   "outputs": [],
   "source": [
    "processed_input = tf.transpose(_inputs, perm=[1,0,2])\n",
    "initial_hidden = tf.zeros([batch_size, hidden_layer_size])\n",
    "all_hidden_states = tf.scan(rnn_step, processed_input, initializer=initial_hidden, name='states')\n",
    "\n",
    "with tf.name_scope('linear_layer_weights') as scope:\n",
    "        with tf.name_scope('W_linear'):\n",
    "            Wl = tf.Variable(tf.truncated_normal([hidden_layer_size, num_classes], mean=0, stddev=.01))\n",
    "            var_summaries(Wl)\n",
    "            bl = tf.Variable(tf.truncated_normal([num_classes], mean=0, stddev=.01))\n",
    "            var_summaries(bl)\n",
    "            \n",
    "def get_linear_layer(hidden_state):\n",
    "    return tf.matmul(hidden_state, Wl) + bl"
   ]
  },
  {
   "cell_type": "code",
   "execution_count": 5,
   "metadata": {
    "collapsed": true,
    "deletable": true,
    "editable": true
   },
   "outputs": [],
   "source": [
    "with tf.name_scope('linear_layer_weights') as scope:\n",
    "    all_outputs = tf.map_fn(get_linear_layer, all_hidden_states)\n",
    "    output = all_outputs[-1]\n",
    "    tf.summary.histogram('outputs',output)"
   ]
  },
  {
   "cell_type": "code",
   "execution_count": 6,
   "metadata": {
    "collapsed": true,
    "deletable": true,
    "editable": true
   },
   "outputs": [],
   "source": [
    "with tf.name_scope('cross_entropy'):\n",
    "    cross_entropy = tf.reduce_mean(tf.nn.softmax_cross_entropy_with_logits(logits=output, labels=y))\n",
    "    tf.summary.scalar('cross_entropy', cross_entropy)\n",
    "    \n",
    "with tf.name_scope('train'):\n",
    "    train_step = tf.train.RMSPropOptimizer(0.001, 0.9).minimize(cross_entropy)\n",
    "    \n",
    "with tf.name_scope('accuracy'):\n",
    "    correct_prediction = tf.equal(tf.argmax(y,1), tf.argmax(output,1))\n",
    "    accuracy = (tf.reduce_mean(tf.cast(correct_prediction, tf.float32)))*100\n",
    "    tf.summary.scalar('accuracy', accuracy)\n",
    "    \n",
    "merged = tf.summary.merge_all()"
   ]
  },
  {
   "cell_type": "code",
   "execution_count": 7,
   "metadata": {
    "collapsed": false,
    "deletable": true,
    "editable": true
   },
   "outputs": [
    {
     "name": "stdout",
     "output_type": "stream",
     "text": [
      "Iter 0, Minibatch Loss=2.301976, Training Accuracy=8.59375\n",
      "Iter 1000, Minibatch Loss=1.205346, Training Accuracy=56.25000\n",
      "Iter 2000, Minibatch Loss=0.611657, Training Accuracy=82.81250\n",
      "Iter 3000, Minibatch Loss=0.264072, Training Accuracy=90.62500\n",
      "Iter 4000, Minibatch Loss=0.261685, Training Accuracy=92.96875\n",
      "Iter 5000, Minibatch Loss=0.074211, Training Accuracy=98.43750\n",
      "Iter 6000, Minibatch Loss=0.156546, Training Accuracy=96.87500\n",
      "Iter 7000, Minibatch Loss=0.116631, Training Accuracy=96.87500\n",
      "Iter 8000, Minibatch Loss=0.046953, Training Accuracy=99.21875\n",
      "Iter 9000, Minibatch Loss=0.141044, Training Accuracy=96.87500\n",
      "Test Accuracy:  96.0938\n"
     ]
    }
   ],
   "source": [
    "test_data = mnist.test.images[:batch_size].reshape((-1,time_steps,element_size))\n",
    "test_label = mnist.test.labels[:batch_size]\n",
    "\n",
    "with tf.Session() as sess:\n",
    "    \n",
    "    train_writer = tf.summary.FileWriter(LOG_DIR+'/train',graph=tf.get_default_graph())\n",
    "    test_writer = tf.summary.FileWriter(LOG_DIR+'/test',graph=tf.get_default_graph())\n",
    "    sess.run(tf.global_variables_initializer())\n",
    "    \n",
    "    for i in range(10000):\n",
    "        \n",
    "        batch_x,batch_y=mnist.train.next_batch(batch_size)\n",
    "        batch_x = batch_x.reshape((batch_size,time_steps,element_size))\n",
    "        summary,_ = sess.run([merged,train_step],feed_dict={_inputs:batch_x, y:batch_y})\n",
    "        train_writer.add_summary(summary,i)\n",
    "        \n",
    "        if i%1000 == 0:\n",
    "            \n",
    "            acc, loss, = sess.run([accuracy,cross_entropy], feed_dict={_inputs:batch_x, y:batch_y})\n",
    "            print('Iter '+str(i)+', Minibatch Loss='+'{:.6f}'.format(loss)+', Training Accuracy='+'{:.5f}'.format(acc))\n",
    "            \n",
    "        if i%10:\n",
    "            summary,acc = sess.run([merged,accuracy], feed_dict={_inputs:test_data,y:test_label})\n",
    "            test_writer.add_summary(summary,i)\n",
    "            \n",
    "    test_acc = sess.run(accuracy,feed_dict={_inputs:test_data,y:test_label})\n",
    "    print('Test Accuracy: ',test_acc)   \n",
    "        \n",
    "        \n",
    "        "
   ]
  },
  {
   "cell_type": "code",
   "execution_count": null,
   "metadata": {
    "collapsed": true,
    "deletable": true,
    "editable": true
   },
   "outputs": [],
   "source": []
  },
  {
   "cell_type": "code",
   "execution_count": null,
   "metadata": {
    "collapsed": true,
    "deletable": true,
    "editable": true
   },
   "outputs": [],
   "source": []
  },
  {
   "cell_type": "code",
   "execution_count": null,
   "metadata": {
    "collapsed": true
   },
   "outputs": [],
   "source": []
  },
  {
   "cell_type": "code",
   "execution_count": null,
   "metadata": {
    "collapsed": true
   },
   "outputs": [],
   "source": []
  },
  {
   "cell_type": "code",
   "execution_count": null,
   "metadata": {
    "collapsed": true
   },
   "outputs": [],
   "source": []
  },
  {
   "cell_type": "code",
   "execution_count": null,
   "metadata": {
    "collapsed": true
   },
   "outputs": [],
   "source": []
  },
  {
   "cell_type": "code",
   "execution_count": null,
   "metadata": {
    "collapsed": true
   },
   "outputs": [],
   "source": []
  },
  {
   "cell_type": "code",
   "execution_count": null,
   "metadata": {
    "collapsed": true
   },
   "outputs": [],
   "source": []
  }
 ],
 "metadata": {
  "kernelspec": {
   "display_name": "Python 3",
   "language": "python",
   "name": "python3"
  },
  "language_info": {
   "codemirror_mode": {
    "name": "ipython",
    "version": 3
   },
   "file_extension": ".py",
   "mimetype": "text/x-python",
   "name": "python",
   "nbconvert_exporter": "python",
   "pygments_lexer": "ipython3",
   "version": "3.5.0"
  }
 },
 "nbformat": 4,
 "nbformat_minor": 2
}
