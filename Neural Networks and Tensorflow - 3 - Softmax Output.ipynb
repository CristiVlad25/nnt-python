{
 "cells": [
  {
   "cell_type": "markdown",
   "metadata": {
    "deletable": true,
    "editable": true
   },
   "source": [
    "# <center> Neural Networks and Tensorflow </center>"
   ]
  },
  {
   "cell_type": "markdown",
   "metadata": {
    "deletable": true,
    "editable": true
   },
   "source": [
    "## 1. Artificial Neurons\n",
    "\n",
    "### <p style='text-align:center; color:blue'> Biological Neuron </p>\n",
    "\n",
    "![](bioneuron.png)\n",
    "\n",
    "*<p style='text-align:right'>Adapted from BruceBlaus (Own work) [CC BY 3.0] via Wikimedia Commons</p>*\n",
    "\n",
    "### <p style='text-align:center; color:blue'> Artificial Neuron </p>\n",
    "\n",
    "![](artifneuron.png)\n",
    "\n",
    "*<p style='text-align:right'>By Chrislb (created by Chrislb) [GFDL  or CC-BY-SA-3.0], via Wikimedia Commons</p>*\n",
    "\n",
    "### <p style='text-align:center'> $z = ∑wi*xi$</p>\n",
    "\n",
    "#### The output is a function of z:\n",
    "\n",
    "### <p style='text-align:center'> $y = f(z)$ </p>"
   ]
  },
  {
   "cell_type": "markdown",
   "metadata": {
    "deletable": true,
    "editable": true
   },
   "source": [
    "### Output:\n",
    "\n",
    "## <p style='text-align:center; color:blue'> $y = f(X*W+b)$ </p>"
   ]
  },
  {
   "cell_type": "markdown",
   "metadata": {
    "collapsed": true,
    "deletable": true,
    "editable": true
   },
   "source": [
    "## 2. Feed Forward Neural Networks"
   ]
  },
  {
   "cell_type": "markdown",
   "metadata": {
    "deletable": true,
    "editable": true
   },
   "source": [
    "![](2layerann.png)\n",
    "\n",
    "*<p style='text-align:right'>By Mcstrother (Own work) [CC BY 3.0], via Wikimedia Commons</p>*"
   ]
  },
  {
   "cell_type": "markdown",
   "metadata": {
    "deletable": true,
    "editable": true
   },
   "source": [
    "### 2.1. The Sigmoid Function \n",
    "\n",
    "![](sigmoid.png)\n",
    "*<p style='text-align:right'>By MartinThoma (Own work) [CC0], via Wikimedia Commons</p>*\n",
    "\n",
    "## <p style='text-align:center'> $f(z) = \\frac{1}{1+e^{-z}}$ </p>"
   ]
  },
  {
   "cell_type": "markdown",
   "metadata": {
    "deletable": true,
    "editable": true
   },
   "source": [
    "### 2.2. The Hyperbolic Tangent\n",
    "\n",
    "![](tanh.png)\n",
    "*<p style='text-align:right'>By Laughsinthestocks (Own work) [CC BY-SA 4.0], via Wikimedia Commons</p>*\n",
    "\n",
    "## <p style='text-align:center'> $f(z) = tanh(z)$ </p>\n",
    "## <p style='text-align:center'> $f(z) = \\frac{2}{1+e^{-2z}} - 1$ </p>"
   ]
  },
  {
   "cell_type": "markdown",
   "metadata": {
    "deletable": true,
    "editable": true
   },
   "source": [
    "### 2.3. The Rectified Linear Unit (ReLU)\n",
    "\n",
    "![](relu.png)\n",
    "*<p style='text-align:right'>By Laughsinthestocks (Own work) [CC BY-SA 4.0], via Wikimedia Commons</p>*\n",
    "\n",
    "## <p style='text-align:center'> $f(z) = max(0,z)$ </p>"
   ]
  },
  {
   "cell_type": "markdown",
   "metadata": {
    "collapsed": true,
    "deletable": true,
    "editable": true
   },
   "source": [
    "## 3. Softmax Output\n",
    "\n",
    "![](softmax.png)\n",
    "*<p style='text-align:right'>By Lizhongzheng (Own work) [CC BY-SA 4.0], via Wikimedia Commons</p>*\n",
    "\n",
    "## <p style='text-align:center'> $\\sum_{i=0}^{9} p_i = 1$ </p>\n",
    "\n",
    "## <p style='text-align:center'> $\\hat y = \\Big[$ p0 p1 p2 p3 p4 p5 p6 p7 p8 p9 $\\Big]$ </p>\n",
    "\n",
    "- probability distribution - how confident am I of this prediction?\n",
    "- neurons in the softmax layer are interdependent"
   ]
  },
  {
   "cell_type": "code",
   "execution_count": null,
   "metadata": {
    "collapsed": true,
    "deletable": true,
    "editable": true
   },
   "outputs": [],
   "source": []
  },
  {
   "cell_type": "code",
   "execution_count": null,
   "metadata": {
    "collapsed": true,
    "deletable": true,
    "editable": true
   },
   "outputs": [],
   "source": []
  },
  {
   "cell_type": "code",
   "execution_count": null,
   "metadata": {
    "collapsed": true,
    "deletable": true,
    "editable": true
   },
   "outputs": [],
   "source": []
  }
 ],
 "metadata": {
  "kernelspec": {
   "display_name": "Python 3",
   "language": "python",
   "name": "python3"
  },
  "language_info": {
   "codemirror_mode": {
    "name": "ipython",
    "version": 3
   },
   "file_extension": ".py",
   "mimetype": "text/x-python",
   "name": "python",
   "nbconvert_exporter": "python",
   "pygments_lexer": "ipython3",
   "version": "3.5.0"
  }
 },
 "nbformat": 4,
 "nbformat_minor": 2
}
