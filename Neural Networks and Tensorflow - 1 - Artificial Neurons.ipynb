{
 "cells": [
  {
   "cell_type": "markdown",
   "metadata": {
    "deletable": true,
    "editable": true
   },
   "source": [
    "# <center> Neural Networks and Tensorflow </center>"
   ]
  },
  {
   "cell_type": "markdown",
   "metadata": {
    "deletable": true,
    "editable": true
   },
   "source": [
    "## 1. Artificial Neurons\n",
    "\n",
    "### <p style='text-align:center; color:blue'> Biological Neuron </p>\n",
    "\n",
    "![](bioneuron.png)\n",
    "\n",
    "*<p style='text-align:right'>Adapted from BruceBlaus (Own work) [CC BY 3.0] via Wikimedia Commons</p>*\n",
    "\n",
    "### <p style='text-align:center; color:blue'> Artificial Neuron </p>\n",
    "\n",
    "![](artifneuron.png)\n",
    "\n",
    "*<p style='text-align:right'>By Chrislb (created by Chrislb) [GFDL  or CC-BY-SA-3.0], via Wikimedia Commons via Wikimedia Commons</p>*\n",
    "\n",
    "### <p style='text-align:center'> z = ∑i wi*xi</p>\n",
    "\n",
    "#### The output is a function of z:\n",
    "\n",
    "### <p style='text-align:center'> y = f(z) </p>"
   ]
  },
  {
   "cell_type": "markdown",
   "metadata": {
    "deletable": true,
    "editable": true
   },
   "source": [
    "### Output:\n",
    "\n",
    "## <p style='text-align:center; color:blue'> y = f(X*W+b) </p>"
   ]
  },
  {
   "cell_type": "code",
   "execution_count": null,
   "metadata": {
    "collapsed": true,
    "deletable": true,
    "editable": true
   },
   "outputs": [],
   "source": []
  }
 ],
 "metadata": {
  "kernelspec": {
   "display_name": "Python 3",
   "language": "python",
   "name": "python3"
  },
  "language_info": {
   "codemirror_mode": {
    "name": "ipython",
    "version": 3
   },
   "file_extension": ".py",
   "mimetype": "text/x-python",
   "name": "python",
   "nbconvert_exporter": "python",
   "pygments_lexer": "ipython3",
   "version": "3.5.0"
  }
 },
 "nbformat": 4,
 "nbformat_minor": 2
}
